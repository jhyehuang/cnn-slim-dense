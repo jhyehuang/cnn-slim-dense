{
 "cells": [
  {
   "cell_type": "code",
   "execution_count": 1,
   "metadata": {},
   "outputs": [
    {
     "name": "stderr",
     "output_type": "stream",
     "text": [
      "C:\\ProgramData\\Anaconda3\\lib\\site-packages\\h5py\\__init__.py:34: FutureWarning: Conversion of the second argument of issubdtype from `float` to `np.floating` is deprecated. In future, it will be treated as `np.float64 == np.dtype(float).type`.\n",
      "  from ._conv import register_converters as _register_converters\n"
     ]
    }
   ],
   "source": [
    "import tensorflow as tf\n",
    "import numpy as np\n",
    "import os\n",
    "\n",
    "import matplotlib.pyplot as plt\n",
    "%matplotlib inline\n",
    "\n",
    "import PIL.Image as Image\n",
    "import glob\n",
    "\n",
    "slim = tf.contrib.slim"
   ]
  },
  {
   "cell_type": "code",
   "execution_count": 3,
   "metadata": {},
   "outputs": [
    {
     "ename": "RuntimeError",
     "evalue": "libpng signaled error",
     "output_type": "error",
     "traceback": [
      "\u001b[1;31m---------------------------------------------------------------------------\u001b[0m",
      "\u001b[1;31mRuntimeError\u001b[0m                              Traceback (most recent call last)",
      "\u001b[1;32mC:\\ProgramData\\Anaconda3\\lib\\site-packages\\IPython\\core\\formatters.py\u001b[0m in \u001b[0;36m__call__\u001b[1;34m(self, obj)\u001b[0m\n\u001b[0;32m    330\u001b[0m                 \u001b[1;32mpass\u001b[0m\u001b[1;33m\u001b[0m\u001b[0m\n\u001b[0;32m    331\u001b[0m             \u001b[1;32melse\u001b[0m\u001b[1;33m:\u001b[0m\u001b[1;33m\u001b[0m\u001b[0m\n\u001b[1;32m--> 332\u001b[1;33m                 \u001b[1;32mreturn\u001b[0m \u001b[0mprinter\u001b[0m\u001b[1;33m(\u001b[0m\u001b[0mobj\u001b[0m\u001b[1;33m)\u001b[0m\u001b[1;33m\u001b[0m\u001b[0m\n\u001b[0m\u001b[0;32m    333\u001b[0m             \u001b[1;31m# Finally look for special method names\u001b[0m\u001b[1;33m\u001b[0m\u001b[1;33m\u001b[0m\u001b[0m\n\u001b[0;32m    334\u001b[0m             \u001b[0mmethod\u001b[0m \u001b[1;33m=\u001b[0m \u001b[0mget_real_method\u001b[0m\u001b[1;33m(\u001b[0m\u001b[0mobj\u001b[0m\u001b[1;33m,\u001b[0m \u001b[0mself\u001b[0m\u001b[1;33m.\u001b[0m\u001b[0mprint_method\u001b[0m\u001b[1;33m)\u001b[0m\u001b[1;33m\u001b[0m\u001b[0m\n",
      "\u001b[1;32mC:\\ProgramData\\Anaconda3\\lib\\site-packages\\IPython\\core\\pylabtools.py\u001b[0m in \u001b[0;36m<lambda>\u001b[1;34m(fig)\u001b[0m\n\u001b[0;32m    235\u001b[0m \u001b[1;33m\u001b[0m\u001b[0m\n\u001b[0;32m    236\u001b[0m     \u001b[1;32mif\u001b[0m \u001b[1;34m'png'\u001b[0m \u001b[1;32min\u001b[0m \u001b[0mformats\u001b[0m\u001b[1;33m:\u001b[0m\u001b[1;33m\u001b[0m\u001b[0m\n\u001b[1;32m--> 237\u001b[1;33m         \u001b[0mpng_formatter\u001b[0m\u001b[1;33m.\u001b[0m\u001b[0mfor_type\u001b[0m\u001b[1;33m(\u001b[0m\u001b[0mFigure\u001b[0m\u001b[1;33m,\u001b[0m \u001b[1;32mlambda\u001b[0m \u001b[0mfig\u001b[0m\u001b[1;33m:\u001b[0m \u001b[0mprint_figure\u001b[0m\u001b[1;33m(\u001b[0m\u001b[0mfig\u001b[0m\u001b[1;33m,\u001b[0m \u001b[1;34m'png'\u001b[0m\u001b[1;33m,\u001b[0m \u001b[1;33m**\u001b[0m\u001b[0mkwargs\u001b[0m\u001b[1;33m)\u001b[0m\u001b[1;33m)\u001b[0m\u001b[1;33m\u001b[0m\u001b[0m\n\u001b[0m\u001b[0;32m    238\u001b[0m     \u001b[1;32mif\u001b[0m \u001b[1;34m'retina'\u001b[0m \u001b[1;32min\u001b[0m \u001b[0mformats\u001b[0m \u001b[1;32mor\u001b[0m \u001b[1;34m'png2x'\u001b[0m \u001b[1;32min\u001b[0m \u001b[0mformats\u001b[0m\u001b[1;33m:\u001b[0m\u001b[1;33m\u001b[0m\u001b[0m\n\u001b[0;32m    239\u001b[0m         \u001b[0mpng_formatter\u001b[0m\u001b[1;33m.\u001b[0m\u001b[0mfor_type\u001b[0m\u001b[1;33m(\u001b[0m\u001b[0mFigure\u001b[0m\u001b[1;33m,\u001b[0m \u001b[1;32mlambda\u001b[0m \u001b[0mfig\u001b[0m\u001b[1;33m:\u001b[0m \u001b[0mretina_figure\u001b[0m\u001b[1;33m(\u001b[0m\u001b[0mfig\u001b[0m\u001b[1;33m,\u001b[0m \u001b[1;33m**\u001b[0m\u001b[0mkwargs\u001b[0m\u001b[1;33m)\u001b[0m\u001b[1;33m)\u001b[0m\u001b[1;33m\u001b[0m\u001b[0m\n",
      "\u001b[1;32mC:\\ProgramData\\Anaconda3\\lib\\site-packages\\IPython\\core\\pylabtools.py\u001b[0m in \u001b[0;36mprint_figure\u001b[1;34m(fig, fmt, bbox_inches, **kwargs)\u001b[0m\n\u001b[0;32m    119\u001b[0m \u001b[1;33m\u001b[0m\u001b[0m\n\u001b[0;32m    120\u001b[0m     \u001b[0mbytes_io\u001b[0m \u001b[1;33m=\u001b[0m \u001b[0mBytesIO\u001b[0m\u001b[1;33m(\u001b[0m\u001b[1;33m)\u001b[0m\u001b[1;33m\u001b[0m\u001b[0m\n\u001b[1;32m--> 121\u001b[1;33m     \u001b[0mfig\u001b[0m\u001b[1;33m.\u001b[0m\u001b[0mcanvas\u001b[0m\u001b[1;33m.\u001b[0m\u001b[0mprint_figure\u001b[0m\u001b[1;33m(\u001b[0m\u001b[0mbytes_io\u001b[0m\u001b[1;33m,\u001b[0m \u001b[1;33m**\u001b[0m\u001b[0mkw\u001b[0m\u001b[1;33m)\u001b[0m\u001b[1;33m\u001b[0m\u001b[0m\n\u001b[0m\u001b[0;32m    122\u001b[0m     \u001b[0mdata\u001b[0m \u001b[1;33m=\u001b[0m \u001b[0mbytes_io\u001b[0m\u001b[1;33m.\u001b[0m\u001b[0mgetvalue\u001b[0m\u001b[1;33m(\u001b[0m\u001b[1;33m)\u001b[0m\u001b[1;33m\u001b[0m\u001b[0m\n\u001b[0;32m    123\u001b[0m     \u001b[1;32mif\u001b[0m \u001b[0mfmt\u001b[0m \u001b[1;33m==\u001b[0m \u001b[1;34m'svg'\u001b[0m\u001b[1;33m:\u001b[0m\u001b[1;33m\u001b[0m\u001b[0m\n",
      "\u001b[1;32mC:\\ProgramData\\Anaconda3\\lib\\site-packages\\matplotlib\\backend_bases.py\u001b[0m in \u001b[0;36mprint_figure\u001b[1;34m(self, filename, dpi, facecolor, edgecolor, orientation, format, **kwargs)\u001b[0m\n\u001b[0;32m   2206\u001b[0m                     \u001b[0morientation\u001b[0m\u001b[1;33m=\u001b[0m\u001b[0morientation\u001b[0m\u001b[1;33m,\u001b[0m\u001b[1;33m\u001b[0m\u001b[0m\n\u001b[0;32m   2207\u001b[0m                     \u001b[0mdryrun\u001b[0m\u001b[1;33m=\u001b[0m\u001b[1;32mTrue\u001b[0m\u001b[1;33m,\u001b[0m\u001b[1;33m\u001b[0m\u001b[0m\n\u001b[1;32m-> 2208\u001b[1;33m                     **kwargs)\n\u001b[0m\u001b[0;32m   2209\u001b[0m                 \u001b[0mrenderer\u001b[0m \u001b[1;33m=\u001b[0m \u001b[0mself\u001b[0m\u001b[1;33m.\u001b[0m\u001b[0mfigure\u001b[0m\u001b[1;33m.\u001b[0m\u001b[0m_cachedRenderer\u001b[0m\u001b[1;33m\u001b[0m\u001b[0m\n\u001b[0;32m   2210\u001b[0m                 \u001b[0mbbox_inches\u001b[0m \u001b[1;33m=\u001b[0m \u001b[0mself\u001b[0m\u001b[1;33m.\u001b[0m\u001b[0mfigure\u001b[0m\u001b[1;33m.\u001b[0m\u001b[0mget_tightbbox\u001b[0m\u001b[1;33m(\u001b[0m\u001b[0mrenderer\u001b[0m\u001b[1;33m)\u001b[0m\u001b[1;33m\u001b[0m\u001b[0m\n",
      "\u001b[1;32mC:\\ProgramData\\Anaconda3\\lib\\site-packages\\matplotlib\\backends\\backend_agg.py\u001b[0m in \u001b[0;36mprint_png\u001b[1;34m(self, filename_or_obj, *args, **kwargs)\u001b[0m\n\u001b[0;32m    524\u001b[0m         \u001b[1;32mtry\u001b[0m\u001b[1;33m:\u001b[0m\u001b[1;33m\u001b[0m\u001b[0m\n\u001b[0;32m    525\u001b[0m             _png.write_png(renderer._renderer, filename_or_obj,\n\u001b[1;32m--> 526\u001b[1;33m                            self.figure.dpi, metadata=metadata)\n\u001b[0m\u001b[0;32m    527\u001b[0m         \u001b[1;32mfinally\u001b[0m\u001b[1;33m:\u001b[0m\u001b[1;33m\u001b[0m\u001b[0m\n\u001b[0;32m    528\u001b[0m             \u001b[1;32mif\u001b[0m \u001b[0mclose\u001b[0m\u001b[1;33m:\u001b[0m\u001b[1;33m\u001b[0m\u001b[0m\n",
      "\u001b[1;31mRuntimeError\u001b[0m: libpng signaled error"
     ]
    },
    {
     "data": {
      "text/plain": [
       "<matplotlib.figure.Figure at 0x25413cd0668>"
      ]
     },
     "metadata": {},
     "output_type": "display_data"
    }
   ],
   "source": [
    "image_path = os.path.expanduser('./data')\n",
    "\n",
    "file_lists = glob.glob(os.path.join(image_path, '*.jpg'))\n",
    "reconstruct_key = 'local4'\n",
    "checkpoint_path = os.path.expanduser('./data/cifar10_train_model1')\n",
    "file_count = len(file_lists)\n",
    "for i in range(len(file_lists)):\n",
    "    plt.figure(num=i, figsize=(file_count,file_count))\n",
    "    plt.axis('off')\n",
    "    plt.xticks([])\n",
    "    plt.yticks([])\n",
    "    for (f,i) in zip(file_lists, range(len(file_lists))):\n",
    "        img = Image.open(f)\n",
    "        plt.subplot(file_count,file_count,i+1)\n",
    "        plt.axis('off')\n",
    "        plt.xticks([])\n",
    "        plt.yticks([])\n",
    "        plt.imshow(img)\n"
   ]
  },
  {
   "cell_type": "code",
   "execution_count": null,
   "metadata": {
    "collapsed": true
   },
   "outputs": [],
   "source": [
    "NUM_CLASSES = 10\n",
    "def inference(images, is_training=False, final_point='local4'):\n",
    "  \"\"\"Build the CIFAR-10 model.\n",
    "\n",
    "  Args:\n",
    "    images: Images returned from distorted_inputs() or inputs().\n",
    "\n",
    "  Returns:\n",
    "    Logits.\n",
    "  \"\"\"\n",
    "  end_points = {}\n",
    "  # We instantiate all variables using tf.get_variable() instead of\n",
    "  # tf.Variable() in order to share variables across multiple GPU training runs.\n",
    "  # If we only ran this model on a single GPU, we could simplify this function\n",
    "  # by replacing all instances of tf.get_variable() with tf.Variable().\n",
    "  with slim.arg_scope([slim.conv2d, slim.fully_connected],\n",
    "                      activation_fn=tf.nn.relu,\n",
    "                      biases_initializer=tf.constant_initializer(0.1),\n",
    "                      weights_regularizer=slim.l2_regularizer(4e-5)):\n",
    "    # conv1\n",
    "    scope_name = 'conv1'\n",
    "    with tf.variable_scope(scope_name) as scope:\n",
    "      net = slim.conv2d(images, 32, [5, 5], stride=2, padding='SAME')\n",
    "    end_points[scope_name] = net\n",
    "    \n",
    "    # 12 x 12 x 32\n",
    "    # conv2\n",
    "    scope_name = 'conv2'\n",
    "    with tf.variable_scope(scope_name) as scope:\n",
    "      net = slim.conv2d(net, 32, [3, 3], padding='SAME')\n",
    "      net = slim.conv2d(net, 48, [3, 3], padding='SAME')\n",
    "      net = slim.conv2d(net, 64, [3, 3], stride=2, padding='SAME')\n",
    "    end_points[scope_name] = net\n",
    "    if scope_name==final_point:\n",
    "        return net, end_points\n",
    "    \n",
    "    # 6 x 6 x 64\n",
    "    scope_name = 'conv3'\n",
    "    with tf.variable_scope(scope_name) as scope:\n",
    "      net = slim.conv2d(net, 48, [1, 1], padding='SAME')\n",
    "      net = slim.conv2d(net, 64, [3, 3], padding='SAME')\n",
    "    end_points[scope_name] = net\n",
    "    if scope_name==final_point:\n",
    "        return net, end_points\n",
    "    # 6 x 6 x 64\n",
    "\n",
    "    # pool2\n",
    "    scope_name = 'conv3'\n",
    "    net = slim.max_pool2d(net, [2, 2], stride=2, padding='SAME')\n",
    "    end_points[scope_name] = net\n",
    "    if scope_name==final_point:\n",
    "        return net, end_points\n",
    "    # 3 x 3 x 64\n",
    "    \n",
    "\n",
    "    # local3\n",
    "    scope_name = 'local3'\n",
    "    with tf.variable_scope(scope_name) as scope:\n",
    "      net = slim.conv2d(net, 128, [3, 3], padding='VALID')\n",
    "    end_points[scope_name] = net\n",
    "    if scope_name==final_point:\n",
    "        return net, end_points\n",
    "\n",
    "    # local4\n",
    "    scope_name = 'local4'\n",
    "    with tf.variable_scope(scope_name) as scope:\n",
    "      net = slim.conv2d(net, 128, [1, 1], padding='SAME')\n",
    "    end_points[scope_name] = net\n",
    "    if scope_name==final_point:\n",
    "        return net, end_points\n",
    "\n",
    "    scope_name = 'softmax_linear'\n",
    "    with tf.variable_scope(scope_name) as scope:\n",
    "      softmax_linear = slim.conv2d(net, NUM_CLASSES, [1, 1], padding='SAME',\n",
    "          activation_fn=None)\n",
    "      softmax_linear = tf.squeeze(softmax_linear)\n",
    "    end_points[scope_name] = softmax_linear\n",
    "\n",
    "\n",
    "    return softmax_linear, end_points"
   ]
  },
  {
   "cell_type": "code",
   "execution_count": null,
   "metadata": {
    "collapsed": true,
    "scrolled": false
   },
   "outputs": [],
   "source": [
    "tf.reset_default_graph()\n",
    "learning_rate = tf.placeholder(tf.float32)\n",
    "input_jpeg = tf.placeholder(tf.string)\n",
    "image = tf.image.decode_jpeg(input_jpeg, channels=3)\n",
    "image = tf.cast(image, tf.float32)\n",
    "\n",
    "image = tf.image.per_image_standardization(image)\n",
    "images = tf.expand_dims(image, 0)\n",
    "images = tf.image.resize_images(images, [24, 24])\n",
    "\n",
    "logits, end_points_rec = inference(images, final_point=reconstruct_key)"
   ]
  },
  {
   "cell_type": "code",
   "execution_count": null,
   "metadata": {
    "collapsed": true
   },
   "outputs": [],
   "source": [
    "init_op = tf.global_variables_initializer()\n",
    "sess_config=tf.ConfigProto()\n",
    "sess_config.gpu_options.allow_growth = True\n",
    "sess = tf.Session(config=sess_config)\n",
    "sess.run(init_op)"
   ]
  },
  {
   "cell_type": "code",
   "execution_count": null,
   "metadata": {
    "scrolled": false
   },
   "outputs": [],
   "source": [
    "variable_averages = tf.train.ExponentialMovingAverage(0.9999)\n",
    "variables_to_restore = variable_averages.variables_to_restore()\n",
    "for key in variables_to_restore.keys():\n",
    "    if key.startswith('reconstruct') or key.startswith('beta'):\n",
    "        variables_to_restore.pop(key)\n",
    "saver = tf.train.Saver(variables_to_restore, allow_empty=True)\n",
    "\n",
    "checkpoint = tf.train.latest_checkpoint(checkpoint_path)\n",
    "saver.restore(sess, checkpoint)"
   ]
  },
  {
   "cell_type": "code",
   "execution_count": null,
   "metadata": {
    "collapsed": true
   },
   "outputs": [],
   "source": [
    "feature_vectors = []\n",
    "for file_name in file_lists:\n",
    "    with open(file_name) as f:\n",
    "        file_content = f.read()\n",
    "    feature = sess.run(logits, feed_dict={input_jpeg:file_content}).squeeze()\n",
    "    feature_vectors.append(feature)\n",
    "feature_vectors = np.stack(feature_vectors, axis=0)"
   ]
  },
  {
   "cell_type": "code",
   "execution_count": null,
   "metadata": {
    "collapsed": true
   },
   "outputs": [],
   "source": [
    "distance_euclidean = 2*np.sum(\n",
    "              feature_vectors**2, \n",
    "              axis=1) \\\n",
    "    - 2*np.dot(\n",
    "              feature_vectors, \n",
    "              feature_vectors.T)\n",
    "\n",
    "\n",
    "features_norm = feature_vectors / np.linalg.norm(feature_vectors,axis=1)[:, np.newaxis]\n",
    "distance_cosin = np.dot(features_norm, features_norm.T)"
   ]
  },
  {
   "cell_type": "code",
   "execution_count": null,
   "metadata": {
    "scrolled": false
   },
   "outputs": [],
   "source": [
    "for pattern_index in range(len(file_lists)):\n",
    "  #for i in range(len(feature_vectors)):\n",
    "  #    features_norm[i,:] = feature_vectors[i,:]/np.linalg.norm(feature_vectors,axis=1)[i]\n",
    "  \n",
    "  #pattern = feature_vectors[pattern_index]\n",
    "  \n",
    "  #distance_euclidean = np.mean((feature_vectors - pattern)**2,axis=1)\n",
    "  #distance_cosin = np.matmul(features_norm, pattern)\n",
    "  \n",
    "  order_euclidean = np.argsort(distance_euclidean[pattern_index])\n",
    "  order_cosin = np.argsort(distance_cosin[pattern_index])[::-1]\n",
    "  \n",
    "  order = order_euclidean\n",
    "  plt_img = Image.open(file_lists[pattern_index])\n",
    "  plt.figure(num=pattern_index, figsize=(10,10))\n",
    "  plt.subplot(8,8,1)\n",
    "  plt.axis('off')\n",
    "  plt.xticks([])\n",
    "  plt.yticks([])\n",
    "  plt.imshow(plt_img)\n",
    "  print(order)\n",
    "  for index, i in zip(order, range(len(order))):\n",
    "      plt_img = Image.open(file_lists[index])\n",
    "      plt.subplot(11,11,i+2)\n",
    "      plt.axis('off')\n",
    "      plt.xticks([])\n",
    "      plt.yticks([])\n",
    "      plt.imshow(plt_img)"
   ]
  },
  {
   "cell_type": "code",
   "execution_count": null,
   "metadata": {
    "collapsed": true
   },
   "outputs": [],
   "source": []
  }
 ],
 "metadata": {
  "kernelspec": {
   "display_name": "Python 3",
   "language": "python",
   "name": "python3"
  },
  "language_info": {
   "codemirror_mode": {
    "name": "ipython",
    "version": 3
   },
   "file_extension": ".py",
   "mimetype": "text/x-python",
   "name": "python",
   "nbconvert_exporter": "python",
   "pygments_lexer": "ipython3",
   "version": "3.6.3"
  }
 },
 "nbformat": 4,
 "nbformat_minor": 2
}
